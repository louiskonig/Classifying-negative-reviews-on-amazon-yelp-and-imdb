{
 "cells": [
  {
   "cell_type": "code",
   "execution_count": 169,
   "metadata": {},
   "outputs": [],
   "source": [
    "import pandas as pd\n",
    "import numpy as np\n",
    "\n",
    "import seaborn as sns\n",
    "import matplotlib.pyplot as plt\n",
    "\n",
    "from sklearn.model_selection import train_test_split\n",
    "from sklearn.metrics import accuracy_score, classification_report\n",
    "\n",
    "from sklearn.naive_bayes import BernoulliNB as NaiveBayes\n",
    "from sklearn.feature_extraction.text import TfidfVectorizer\n",
    "from sklearn.decomposition import TruncatedSVD\n",
    "from sklearn.metrics import f1_score\n",
    "from tqdm import tqdm_notebook\n"
   ]
  },
  {
   "cell_type": "code",
   "execution_count": 116,
   "metadata": {
    "scrolled": false
   },
   "outputs": [
    {
     "data": {
      "text/html": [
       "<div>\n",
       "<style scoped>\n",
       "    .dataframe tbody tr th:only-of-type {\n",
       "        vertical-align: middle;\n",
       "    }\n",
       "\n",
       "    .dataframe tbody tr th {\n",
       "        vertical-align: top;\n",
       "    }\n",
       "\n",
       "    .dataframe thead th {\n",
       "        text-align: right;\n",
       "    }\n",
       "</style>\n",
       "<table border=\"1\" class=\"dataframe\">\n",
       "  <thead>\n",
       "    <tr style=\"text-align: right;\">\n",
       "      <th></th>\n",
       "      <th>review</th>\n",
       "      <th>label</th>\n",
       "    </tr>\n",
       "  </thead>\n",
       "  <tbody>\n",
       "    <tr>\n",
       "      <th>0</th>\n",
       "      <td>A very, very, very slow-moving, aimless movie ...</td>\n",
       "      <td>0</td>\n",
       "    </tr>\n",
       "    <tr>\n",
       "      <th>1</th>\n",
       "      <td>Not sure who was more lost - the flat characte...</td>\n",
       "      <td>0</td>\n",
       "    </tr>\n",
       "    <tr>\n",
       "      <th>2</th>\n",
       "      <td>Attempting artiness with black &amp; white and cle...</td>\n",
       "      <td>0</td>\n",
       "    </tr>\n",
       "    <tr>\n",
       "      <th>3</th>\n",
       "      <td>Very little music or anything to speak of.</td>\n",
       "      <td>0</td>\n",
       "    </tr>\n",
       "    <tr>\n",
       "      <th>4</th>\n",
       "      <td>The best scene in the movie was when Gerardo i...</td>\n",
       "      <td>1</td>\n",
       "    </tr>\n",
       "  </tbody>\n",
       "</table>\n",
       "</div>"
      ],
      "text/plain": [
       "                                              review  label\n",
       "0  A very, very, very slow-moving, aimless movie ...      0\n",
       "1  Not sure who was more lost - the flat characte...      0\n",
       "2  Attempting artiness with black & white and cle...      0\n",
       "3         Very little music or anything to speak of.      0\n",
       "4  The best scene in the movie was when Gerardo i...      1"
      ]
     },
     "execution_count": 116,
     "metadata": {},
     "output_type": "execute_result"
    }
   ],
   "source": [
    "imdb_data = pd.read_csv('./imdb_labelled.txt', sep='\\t', names=['review', 'label'],\n",
    "                        converters={'review': str.strip, 'label': int})\n",
    "imdb_data.head()"
   ]
  },
  {
   "cell_type": "code",
   "execution_count": 155,
   "metadata": {},
   "outputs": [
    {
     "name": "stdout",
     "output_type": "stream",
     "text": [
      "362\n",
      "386\n"
     ]
    }
   ],
   "source": [
    "print(len(imdb_data[(imdb_data['label'] == 0)]))\n",
    "print(len(imdb_data[(imdb_data['label'] == 1)]))\n",
    "\n",
    "#tips[(tips['time'] == 'Dinner') & (tips['tip'] > 5.00)]"
   ]
  },
  {
   "cell_type": "code",
   "execution_count": 162,
   "metadata": {},
   "outputs": [
    {
     "name": "stdout",
     "output_type": "stream",
     "text": [
      "73\n",
      "77\n"
     ]
    }
   ],
   "source": [
    "train_inp, test_inp, train_out, test_out =  train_test_split(imdb_data.review, imdb_data.label, test_size=0.2,stratify=imdb_data.label, random_state=20)\n",
    "#print(len(train_inp))\n",
    "#print(len(test_inp))\n",
    "\n",
    "print(sum(test_out==0))\n",
    "print(sum(test_out==1))"
   ]
  },
  {
   "cell_type": "code",
   "execution_count": 163,
   "metadata": {},
   "outputs": [],
   "source": [
    "from sklearn.naive_bayes import BernoulliNB as NaiveBayes\n",
    "from sklearn.feature_extraction.text import TfidfVectorizer\n",
    "\n",
    "vectorizer = TfidfVectorizer(stop_words='english')\n",
    "classifier = NaiveBayes()"
   ]
  },
  {
   "cell_type": "code",
   "execution_count": 170,
   "metadata": {},
   "outputs": [
    {
     "data": {
      "application/vnd.jupyter.widget-view+json": {
       "model_id": "3ad37daf00044b9ea354f220bd9356fe",
       "version_major": 2,
       "version_minor": 0
      },
      "text/html": [
       "<p>Failed to display Jupyter Widget of type <code>HBox</code>.</p>\n",
       "<p>\n",
       "  If you're reading this message in the Jupyter Notebook or JupyterLab Notebook, it may mean\n",
       "  that the widgets JavaScript is still loading. If this message persists, it\n",
       "  likely means that the widgets JavaScript library is either not installed or\n",
       "  not enabled. See the <a href=\"https://ipywidgets.readthedocs.io/en/stable/user_install.html\">Jupyter\n",
       "  Widgets Documentation</a> for setup instructions.\n",
       "</p>\n",
       "<p>\n",
       "  If you're reading this message in another frontend (for example, a static\n",
       "  rendering on GitHub or <a href=\"https://nbviewer.jupyter.org/\">NBViewer</a>),\n",
       "  it may mean that your frontend doesn't currently support widgets.\n",
       "</p>\n"
      ],
      "text/plain": [
       "HBox(children=(IntProgress(value=0, max=99), HTML(value='')))"
      ]
     },
     "metadata": {},
     "output_type": "display_data"
    },
    {
     "name": "stdout",
     "output_type": "stream",
     "text": [
      "\n"
     ]
    }
   ],
   "source": [
    "#from sklearn.pipeline import Pipeline\n",
    "\n",
    "#pipe = Pipeline([\n",
    "#    ('extractor', vectorizer),\n",
    "#    ('classifier', classifier)\n",
    "#])\n",
    "\n",
    "#pipe.fit(train_inp, train_out)\n",
    "\n",
    "\n",
    "\n",
    "\n",
    "trains = []\n",
    "tests = []\n",
    "\n",
    "for dim in tqdm_notebook(range(1, 100)):\n",
    "    vectorizer = TfidfVectorizer(stop_words='english')\n",
    "    svd = TruncatedSVD(dim)\n",
    "    classifier = NaiveBayes()\n",
    "\n",
    "    from sklearn.pipeline import Pipeline\n",
    "    pipe = Pipeline([\n",
    "        ('extractor', vectorizer),\n",
    "        ('lsa', svd),\n",
    "        ('classifier', classifier)\n",
    "    ])\n",
    "\n",
    "    pipe.fit(train_inp, train_out)\n",
    "    trains.append((dim, f1_score(pipe.predict(train_inp), train_out)))\n",
    "    tests.append((dim, f1_score(pipe.predict(test_inp), test_out)))"
   ]
  },
  {
   "cell_type": "code",
   "execution_count": 185,
   "metadata": {},
   "outputs": [
    {
     "data": {
      "text/plain": [
       "[(1, 0.67841409691629961),\n",
       " (2, 0.64000000000000001),\n",
       " (3, 0.61744966442953009),\n",
       " (4, 0.70175438596491224),\n",
       " (5, 0.70588235294117641),\n",
       " (6, 0.67515923566878977),\n",
       " (7, 0.68263473053892221),\n",
       " (8, 0.67484662576687127),\n",
       " (9, 0.69461077844311392),\n",
       " (10, 0.66265060240963847),\n",
       " (11, 0.6785714285714286),\n",
       " (12, 0.67065868263473061),\n",
       " (13, 0.69364161849710981),\n",
       " (14, 0.61249999999999993),\n",
       " (15, 0.69512195121951215),\n",
       " (16, 0.64596273291925466),\n",
       " (17, 0.7100591715976331),\n",
       " (18, 0.67878787878787872),\n",
       " (19, 0.67469879518072295),\n",
       " (20, 0.64197530864197538),\n",
       " (21, 0.67948717948717963),\n",
       " (22, 0.55900621118012428),\n",
       " (23, 0.60526315789473673),\n",
       " (24, 0.63095238095238104),\n",
       " (25, 0.69230769230769229),\n",
       " (26, 0.63694267515923564),\n",
       " (27, 0.64052287581699352),\n",
       " (28, 0.64968152866242035),\n",
       " (29, 0.62820512820512819),\n",
       " (30, 0.60402684563758391),\n",
       " (31, 0.64935064935064934),\n",
       " (32, 0.60377358490566035),\n",
       " (33, 0.66666666666666663),\n",
       " (34, 0.58823529411764708),\n",
       " (35, 0.61146496815286622),\n",
       " (36, 0.61935483870967745),\n",
       " (37, 0.68674698795180733),\n",
       " (38, 0.6887417218543046),\n",
       " (39, 0.60402684563758391),\n",
       " (40, 0.6797385620915033),\n",
       " (41, 0.63694267515923564),\n",
       " (42, 0.67499999999999993),\n",
       " (43, 0.65359477124183007),\n",
       " (44, 0.65838509316770188),\n",
       " (45, 0.63087248322147649),\n",
       " (46, 0.68292682926829273),\n",
       " (47, 0.63087248322147649),\n",
       " (48, 0.61538461538461542),\n",
       " (49, 0.66666666666666663),\n",
       " (50, 0.66242038216560506),\n",
       " (51, 0.67948717948717963),\n",
       " (52, 0.70303030303030301),\n",
       " (53, 0.65432098765432101),\n",
       " (54, 0.62893081761006275),\n",
       " (55, 0.68000000000000005),\n",
       " (56, 0.66666666666666663),\n",
       " (57, 0.61146496815286622),\n",
       " (58, 0.65333333333333332),\n",
       " (59, 0.64556962025316456),\n",
       " (60, 0.67586206896551726),\n",
       " (61, 0.64102564102564108),\n",
       " (62, 0.61146496815286622),\n",
       " (63, 0.65838509316770188),\n",
       " (64, 0.59722222222222221),\n",
       " (65, 0.66666666666666663),\n",
       " (66, 0.65806451612903227),\n",
       " (67, 0.5714285714285714),\n",
       " (68, 0.5960264900662251),\n",
       " (69, 0.69565217391304346),\n",
       " (70, 0.68354430379746844),\n",
       " (71, 0.64968152866242035),\n",
       " (72, 0.62420382165605093),\n",
       " (73, 0.61538461538461542),\n",
       " (74, 0.63013698630136983),\n",
       " (75, 0.65838509316770188),\n",
       " (76, 0.67080745341614911),\n",
       " (77, 0.67878787878787872),\n",
       " (78, 0.65432098765432101),\n",
       " (79, 0.65000000000000002),\n",
       " (80, 0.63576158940397354),\n",
       " (81, 0.69281045751633985),\n",
       " (82, 0.68711656441717794),\n",
       " (83, 0.65384615384615385),\n",
       " (84, 0.69182389937106925),\n",
       " (85, 0.68789808917197448),\n",
       " (86, 0.68354430379746844),\n",
       " (87, 0.59210526315789469),\n",
       " (88, 0.65030674846625758),\n",
       " (89, 0.66666666666666663),\n",
       " (90, 0.68789808917197448),\n",
       " (91, 0.62666666666666671),\n",
       " (92, 0.67080745341614911),\n",
       " (93, 0.67088607594936711),\n",
       " (94, 0.65408805031446549),\n",
       " (95, 0.67924528301886788),\n",
       " (96, 0.66666666666666663),\n",
       " (97, 0.61224489795918369),\n",
       " (98, 0.67878787878787872),\n",
       " (99, 0.65408805031446549)]"
      ]
     },
     "execution_count": 185,
     "metadata": {},
     "output_type": "execute_result"
    }
   ],
   "source": [
    "tests"
   ]
  },
  {
   "cell_type": "code",
   "execution_count": 184,
   "metadata": {},
   "outputs": [
    {
     "data": {
      "image/png": "[encoded data removed]",
      "text/plain": [
       "<matplotlib.figure.Figure at 0xf9cfdf0>"
      ]
     },
     "metadata": {},
     "output_type": "display_data"
    }
   ],
   "source": [
    "x,y = zip(*trains)\n",
    "plt.plot(x,y,'b') # plotting t, a separately \n",
    "x,y = zip(*tests)\n",
    "plt.plot(x,y,'r') # plotting t, b separately \n",
    "plt.show()\n",
    "#train_inp_vectorized = vectorizer.fit_transform(train_inp, train_out)\n",
    "#classifier.fit(train_inp_vectorized, train_out)"
   ]
  },
  {
   "cell_type": "code",
   "execution_count": 188,
   "metadata": {},
   "outputs": [
    {
     "data": {
      "text/plain": [
       "(1, 0.68136714443219404)"
      ]
     },
     "execution_count": 188,
     "metadata": {},
     "output_type": "execute_result"
    }
   ],
   "source": [
    "trains[0]"
   ]
  },
  {
   "cell_type": "code",
   "execution_count": 181,
   "metadata": {},
   "outputs": [
    {
     "name": "stdout",
     "output_type": "stream",
     "text": [
      "             precision    recall  f1-score   support\n",
      "\n",
      "          0       0.59      0.63      0.61        68\n",
      "          1       0.68      0.63      0.65        82\n",
      "\n",
      "avg / total       0.64      0.63      0.63       150\n",
      "\n",
      "0.633333333333\n"
     ]
    }
   ],
   "source": [
    "print(classification_report(pipe.predict(test_inp), test_out))\n",
    "print(accuracy_score(pipe.predict(test_inp), test_out))\n"
   ]
  },
  {
   "cell_type": "code",
   "execution_count": 152,
   "metadata": {},
   "outputs": [
    {
     "name": "stdout",
     "output_type": "stream",
     "text": [
      "Positive Review: time just acting like characters really great good movie film\n"
     ]
    }
   ],
   "source": [
    "print_top10(vectorizer, classifier, 'Positive Review')"
   ]
  },
  {
   "cell_type": "code",
   "execution_count": 153,
   "metadata": {},
   "outputs": [
    {
     "data": {
      "text/plain": [
       "array([[33, 57],\n",
       "       [ 2, 58]], dtype=int64)"
      ]
     },
     "execution_count": 153,
     "metadata": {},
     "output_type": "execute_result"
    }
   ],
   "source": [
    "from sklearn.metrics import confusion_matrix\n",
    "\n",
    "y_pred = pipe.predict(test_inp)\n",
    "confusion_matrix(test_out,y_pred)"
   ]
  },
  {
   "cell_type": "code",
   "execution_count": 168,
   "metadata": {},
   "outputs": [
    {
     "data": {
      "text/plain": [
       "array([ 0.77483444,  0.71333333,  0.72483221,  0.67785235,  0.69798658])"
      ]
     },
     "execution_count": 168,
     "metadata": {},
     "output_type": "execute_result"
    }
   ],
   "source": [
    "from sklearn.model_selection import cross_val_score\n",
    "cross_val_score(pipe,imdb_data.review, imdb_data.label, cv=5)"
   ]
  },
  {
   "cell_type": "code",
   "execution_count": null,
   "metadata": {},
   "outputs": [],
   "source": []
  }
 ],
 "metadata": {
  "kernelspec": {
   "display_name": "Python 3",
   "language": "python",
   "name": "python3"
  },
  "language_info": {
   "codemirror_mode": {
    "name": "ipython",
    "version": 3
   },
   "file_extension": ".py",
   "mimetype": "text/x-python",
   "name": "python",
   "nbconvert_exporter": "python",
   "pygments_lexer": "ipython3",
   "version": "3.6.3"
  }
 },
 "nbformat": 4,
 "nbformat_minor": 2
}
